{
 "cells": [
  {
   "cell_type": "markdown",
   "metadata": {},
   "source": [
    "## Learning a function with a variable number of inputs with PyTorch\n",
    "\n",
    "This notebook is licensed under the Creative Commons cc by-sa 3.0 License.\n",
    "\n",
    "See the full article here: https://medium.com/@andre.holzner/learning-a-function-with-a-variable-number-of-inputs-with-pytorch-c487e35d4dba"
   ]
  },
  {
   "cell_type": "code",
   "execution_count": 1,
   "metadata": {},
   "outputs": [],
   "source": [
    "import numpy as np\n",
    "np.random.seed(1773)\n",
    "\n",
    "import matplotlib.pyplot as plt\n",
    "import math\n",
    "%matplotlib inline\n",
    "\n",
    "plt.rcParams['figure.figsize'] = (8.0, 8.0)\n",
    "\n",
    "from math import sqrt"
   ]
  },
  {
   "cell_type": "code",
   "execution_count": 2,
   "metadata": {},
   "outputs": [],
   "source": [
    "# range of variances to generate\n",
    "varianceRange = [ 0.5, 1.5 ]\n",
    "\n",
    "# total number of points to generate\n",
    "numRows = 10000\n",
    "\n",
    "# minimum and maximum number of points to draw from each distribution \n",
    "# (both inclusive)\n",
    "numPointsRange = [ 10, 20 ]\n"
   ]
  },
  {
   "cell_type": "code",
   "execution_count": 3,
   "metadata": {},
   "outputs": [],
   "source": [
    "# generate true variances of Gaussians\n",
    "# convert to float32 to avoid incompatible data types during training\n",
    "trueVariances = np.random.uniform(\n",
    "                   varianceRange[0], varianceRange[1], numRows).astype('float32')\n",
    "\n",
    "trueSigmas = np.sqrt(trueVariances)"
   ]
  },
  {
   "cell_type": "code",
   "execution_count": 4,
   "metadata": {
    "scrolled": false
   },
   "outputs": [
    {
     "data": {
      "image/png": "[encoded data removed]",
      "text/plain": [
       "<Figure size 576x576 with 1 Axes>"
      ]
     },
     "metadata": {
      "needs_background": "light"
     },
     "output_type": "display_data"
    }
   ],
   "source": [
    "plt.hist(trueVariances, bins = 100);"
   ]
  },
  {
   "cell_type": "markdown",
   "metadata": {},
   "source": [
    "### draw points from the distributions"
   ]
  },
  {
   "cell_type": "code",
   "execution_count": 5,
   "metadata": {},
   "outputs": [],
   "source": [
    "# determine how many points should be drawn from each Gaussian\n",
    "numPoints = np.random.randint(numPointsRange[0], numPointsRange[1] + 1, size = numRows)\n",
    "\n",
    "# draw a set of points from the Gaussian\n",
    "xvalues = []\n",
    "\n",
    "for row in range(numRows):\n",
    "    thisNumPoints = numPoints[row]\n",
    "\n",
    "    # draw points from this Gaussian\n",
    "    xv = np.random.normal(loc = 0, scale = trueSigmas[row], size = (thisNumPoints,1))\n",
    "    \n",
    "    # convert to float32 to avoid problems with incompatible data types during training\n",
    "    xvalues.append(xv.astype('float32'))\n",
    "    \n",
    "# calculate ML estimators for each point\n",
    "mlEstimators = np.array([ np.var(xv, ddof = 0) for xv in xvalues], dtype = 'float32')\n",
    "\n",
    "# calculate unbiased estimators for each point\n",
    "ubEstimators = np.array([ np.var(xv, ddof = 1) for xv in xvalues], dtype = 'float32')"
   ]
  },
  {
   "cell_type": "markdown",
   "metadata": {},
   "source": [
    "### plot a single example Gaussian"
   ]
  },
  {
   "cell_type": "code",
   "execution_count": 6,
   "metadata": {},
   "outputs": [],
   "source": [
    "def plotExample(row, variances, xvalues, variancePredictions = None):\n",
    "    # draw a single case\n",
    "    \n",
    "    xrange = np.linspace(-4,+4,101)\n",
    "    \n",
    "    from scipy.stats import norm\n",
    "    \n",
    "    #----------\n",
    "    # plot the Gaussian\n",
    "    #----------\n",
    "\n",
    "    pdf = norm(loc = 0, scale = sqrt(variances[row])).pdf\n",
    "    \n",
    "    yvalues = pdf(xrange)\n",
    "    plt.plot(xrange, yvalues)\n",
    "\n",
    "    #----------\n",
    "\n",
    "    ymin = min(yvalues); ymax = max(yvalues)\n",
    "    \n",
    "    ytrue  = 0.6 * ymax + 0.4 * ymin\n",
    "    yestU  = 0.5 * ymax + 0.5 * ymin\n",
    "    yestML = 0.4 * ymax + 0.6 * ymin\n",
    "    ypred  = 0.3 * ymax + 0.7 * ymin\n",
    "    \n",
    "    #----------\n",
    "    # plot points on Gaussian\n",
    "    #----------\n",
    "\n",
    "    yvalues = pdf(xvalues[row])\n",
    "    plt.plot(xvalues[row], yvalues, 'o')\n",
    "    \n",
    "    #----------\n",
    "    # plot true sigma\n",
    "    #----------\n",
    "    sigma = sqrt(variances[row])\n",
    "    plt.plot([ - sigma, + sigma ], [ytrue, ytrue], label = 'true (%.2f)' % sigma)\n",
    "    \n",
    "    #----------\n",
    "    # plot ML and unbiased estimator of the variance\n",
    "    #----------\n",
    "    \n",
    "    for label, ddof, ypos in (\n",
    "       ('unbiased est.', 1, yestU),\n",
    "       ('ML est.', 0, yestML),\n",
    "    ):\n",
    "    \n",
    "        sigma = sqrt(np.var(xvalues[row], ddof = ddof))\n",
    "        plt.plot([ - sigma, + sigma ], [ypos, ypos], label = label + ' (%.2f)' % sigma)\n",
    "    \n",
    "\n",
    "    #----------\n",
    "    # plot prediction\n",
    "    #----------\n",
    "    if variancePredictions is not None:\n",
    "        sigma = sqrt(variancePredictions[row])\n",
    "        \n",
    "        plt.plot([ - sigma, + sigma ], [ypred, ypred], label = 'predicted (%.2f)' % sigma)\n",
    "\n",
    "    \n",
    "    \n",
    "    plt.grid()\n",
    "\n",
    "    plt.legend()\n"
   ]
  },
  {
   "cell_type": "code",
   "execution_count": 7,
   "metadata": {},
   "outputs": [
    {
     "data": {
      "image/png": "[encoded data removed]",
      "text/plain": [
       "<Figure size 576x576 with 1 Axes>"
      ]
     },
     "metadata": {
      "needs_background": "light"
     },
     "output_type": "display_data"
    }
   ],
   "source": [
    "plotExample(0, trueVariances, xvalues)"
   ]
  },
  {
   "cell_type": "code",
   "execution_count": 8,
   "metadata": {},
   "outputs": [],
   "source": [
    "# split into train and test set\n",
    "from sklearn.model_selection import train_test_split\n",
    "\n",
    "(inputTrain, inputTest, \n",
    " targetTrain, targetTest,\n",
    " indicesTrain, indicesTest) = train_test_split(xvalues, \n",
    "                                               trueVariances, \n",
    "                                               # mlEstimators,\n",
    "                                               # trueMeans,\n",
    "                                               \n",
    "                                               np.arange(numRows),\n",
    "                                               test_size=0.20, random_state=42)\n"
   ]
  },
  {
   "cell_type": "markdown",
   "metadata": {},
   "source": [
    "### build the network"
   ]
  },
  {
   "cell_type": "code",
   "execution_count": 9,
   "metadata": {},
   "outputs": [],
   "source": [
    "import torch\n",
    "import torch.nn as nn\n",
    "import torch.nn.functional as F\n",
    "import torch.optim as optim\n",
    "from torch.autograd import Variable\n",
    "\n",
    "import operator"
   ]
  },
  {
   "cell_type": "code",
   "execution_count": 18,
   "metadata": {},
   "outputs": [],
   "source": [
    "class Net(nn.Module):\n",
    "    \n",
    "    def __init__(self, \n",
    "                 numLayersInputSide  = 5, \n",
    "                 widthInputSide      = 50,\n",
    "                 numLayersOutputSide = 5,\n",
    "                 widthOutputSide     = 50,\n",
    "                ):\n",
    "        \n",
    "        super(Net, self).__init__()\n",
    "        \n",
    "        #----------\n",
    "        # input side layers\n",
    "        #----------\n",
    "\n",
    "        numInputs = 1\n",
    "        \n",
    "        self.inputSideLayers = []\n",
    "        for i in range(numLayersInputSide):\n",
    "            layer = nn.Linear(numInputs, widthInputSide)\n",
    "            self.inputSideLayers.append(layer)\n",
    "            self.add_module(\"iLayer%d\" % i, layer)\n",
    "            \n",
    "            numInputs = widthInputSide\n",
    "\n",
    "        #----------\n",
    "        # output side layers\n",
    "        #----------\n",
    "\n",
    "        numInputs = widthInputSide\n",
    "        numOutputs = widthOutputSide\n",
    "        \n",
    "        self.outputSideLayers = []\n",
    "        for i in range(numLayersOutputSide):\n",
    "          \n",
    "            if i == numLayersOutputSide - 1:\n",
    "                # we want to learn the variance\n",
    "                numOutputs = 1\n",
    "            else:\n",
    "                numOutputs = widthOutputSide\n",
    "            \n",
    "            layer = nn.Linear(numInputs, numOutputs)\n",
    "            self.outputSideLayers.append(layer)\n",
    "            self.add_module(\"oLayer%d\" % i, layer)\n",
    "            \n",
    "            numInputs = numOutputs\n",
    "             \n",
    "    #----------------------------------------\n",
    "    \n",
    "    def forward(self, points):\n",
    "        \n",
    "        # points is a list of list if 2D points\n",
    "        # the first index is the minibatch index, the second index is the index\n",
    "        # of the point within the row\n",
    "                    \n",
    "        # overall output for the entire minibatch\n",
    "        outputs = []\n",
    "        \n",
    "        # loop over minibatch entries\n",
    "        for thisPoints in points:\n",
    "\n",
    "            # outputs of each point of this minibatch entry\n",
    "            thisOutputs = [ ]\n",
    "            \n",
    "            # thisPoints is a list of 1D tensors\n",
    "            # stack all input points into a 2D tensor\n",
    "            # (the second dimension will have size 1)\n",
    "            h = np.stack(thisPoints)\n",
    "            \n",
    "            h = Variable(torch.from_numpy(h))\n",
    "            \n",
    "            # forward all input points through the input side network\n",
    "            for layer in self.inputSideLayers:\n",
    "                h = layer(h)\n",
    "                h = F.relu(h)\n",
    "                            \n",
    "            # average the input side network outputs: sum along first dimension (point index), \n",
    "            # then divide by number of points\n",
    "            output = h.sum(0) / len(thisPoints)\n",
    "            \n",
    "            # feed through the output side network\n",
    "            h = output\n",
    "            for layerIndex, layer in enumerate(self.outputSideLayers):\n",
    "                \n",
    "                h = layer(h)\n",
    "\n",
    "                # note: since we want to do regression, we do NOT \n",
    "                # apply a nonlinearity after the last layer\n",
    "                \n",
    "                if layerIndex != len(self.outputSideLayers) - 1:\n",
    "                    h = F.relu(h)\n",
    "                \n",
    "            outputs.append(h)\n",
    "            \n",
    "        # end of loop over minibatch entries\n",
    "         \n",
    "        # convert the list of outputs to a torch 2D tensor\n",
    "        return torch.cat(outputs, 0)            "
   ]
  },
  {
   "cell_type": "code",
   "execution_count": 21,
   "metadata": {},
   "outputs": [
    {
     "data": {
      "text/plain": [
       "Net(\n",
       "  (iLayer0): Linear(in_features=1, out_features=50, bias=True)\n",
       "  (iLayer1): Linear(in_features=50, out_features=50, bias=True)\n",
       "  (iLayer2): Linear(in_features=50, out_features=50, bias=True)\n",
       "  (iLayer3): Linear(in_features=50, out_features=50, bias=True)\n",
       "  (iLayer4): Linear(in_features=50, out_features=50, bias=True)\n",
       "  (oLayer0): Linear(in_features=50, out_features=50, bias=True)\n",
       "  (oLayer1): Linear(in_features=50, out_features=50, bias=True)\n",
       "  (oLayer2): Linear(in_features=50, out_features=50, bias=True)\n",
       "  (oLayer3): Linear(in_features=50, out_features=50, bias=True)\n",
       "  (oLayer4): Linear(in_features=50, out_features=1, bias=True)\n",
       ")"
      ]
     },
     "execution_count": 21,
     "metadata": {},
     "output_type": "execute_result"
    }
   ],
   "source": [
    "model "
   ]
  },
  {
   "cell_type": "markdown",
   "metadata": {},
   "source": [
    "### run the training"
   ]
  },
  {
   "cell_type": "code",
   "execution_count": 20,
   "metadata": {
    "scrolled": false
   },
   "outputs": [
    {
     "name": "stdout",
     "output_type": "stream",
     "text": [
      "starting training\n"
     ]
    },
    {
     "ename": "IndexError",
     "evalue": "invalid index of a 0-dim tensor. Use `tensor.item()` in Python or `tensor.item<T>()` in C++ to convert a 0-dim tensor to a number",
     "output_type": "error",
     "traceback": [
      "\u001b[0;31m---------------------------------------------------------------------------\u001b[0m",
      "\u001b[0;31mIndexError\u001b[0m                                Traceback (most recent call last)",
      "\u001b[0;32m/var/folders/qf/w0yjm6cd5l13vkf0nj5z87_m0000gn/T/ipykernel_91509/2886857208.py\u001b[0m in \u001b[0;36m<module>\u001b[0;34m\u001b[0m\n\u001b[1;32m     46\u001b[0m \u001b[0;34m\u001b[0m\u001b[0m\n\u001b[1;32m     47\u001b[0m         \u001b[0;31m# accumulate\u001b[0m\u001b[0;34m\u001b[0m\u001b[0;34m\u001b[0m\u001b[0m\n\u001b[0;32m---> 48\u001b[0;31m         \u001b[0mtrainLoss\u001b[0m \u001b[0;34m=\u001b[0m \u001b[0mtrainLoss\u001b[0m \u001b[0;34m+\u001b[0m \u001b[0mloss\u001b[0m\u001b[0;34m.\u001b[0m\u001b[0mdata\u001b[0m\u001b[0;34m[\u001b[0m\u001b[0;36m0\u001b[0m\u001b[0;34m]\u001b[0m\u001b[0;34m\u001b[0m\u001b[0;34m\u001b[0m\u001b[0m\n\u001b[0m\u001b[1;32m     49\u001b[0m \u001b[0;34m\u001b[0m\u001b[0m\n\u001b[1;32m     50\u001b[0m         \u001b[0;31m# backpropagate\u001b[0m\u001b[0;34m\u001b[0m\u001b[0;34m\u001b[0m\u001b[0m\n",
      "\u001b[0;31mIndexError\u001b[0m: invalid index of a 0-dim tensor. Use `tensor.item()` in Python or `tensor.item<T>()` in C++ to convert a 0-dim tensor to a number"
     ]
    }
   ],
   "source": [
    "# instantiate the model\n",
    "model = Net()\n",
    "\n",
    "allIndices = np.arange(len(targetTrain))\n",
    "\n",
    "# define the loss function\n",
    "lossFunc = nn.MSELoss()\n",
    "\n",
    "minibatchSize = 32\n",
    "\n",
    "# number of training epochs\n",
    "numEpochs = 40\n",
    "\n",
    "optimizer = optim.Adam(model.parameters(), lr = 0.0001)\n",
    "\n",
    "trainLosses = []; testLosses = []\n",
    "\n",
    "# variable for target values of test set\n",
    "testTargetVar = Variable(torch.from_numpy(np.stack(targetTest)))\n",
    "\n",
    "print(\"starting training\")\n",
    "for epoch in range(numEpochs):\n",
    "\n",
    "    np.random.shuffle(allIndices)\n",
    "    \n",
    "    # put model in training mode\n",
    "    model.train()\n",
    "    \n",
    "    trainLoss  = 0\n",
    "    trainSteps = 0\n",
    "    \n",
    "    for indices in np.array_split(allIndices, minibatchSize):\n",
    "        \n",
    "        optimizer.zero_grad()\n",
    "    \n",
    "        # forward through the network\n",
    "        output = model.forward([ inputTrain[index] for index in indices])\n",
    "    \n",
    "        # build a PyTorch variable with the target value\n",
    "        # so that we can propagate backwards afterwards\n",
    "        thisTarget = Variable(\n",
    "            torch.from_numpy(np.stack([ targetTrain[index] for index in indices ])))\n",
    "    \n",
    "        # calculate loss\n",
    "        loss = lossFunc.forward(output, thisTarget)\n",
    "   \n",
    "        # accumulate \n",
    "        trainLoss = trainLoss + loss.data[0]\n",
    "\n",
    "        # backpropagate \n",
    "        loss.backward()\n",
    "                            \n",
    "        # update learning rate        \n",
    "        optimizer.step()\n",
    "        \n",
    "        trainSteps = trainSteps+ 1\n",
    "        \n",
    "    trainLoss /= trainSteps\n",
    "    trainLosses.append(trainLoss)    \n",
    "        \n",
    "    # evaluate model on test set\n",
    "    model.eval()\n",
    "        \n",
    "    output = model.forward(inputTest)\n",
    "            \n",
    "    # calculate loss on test set\n",
    "    testLoss = lossFunc.forward(output, testTargetVar).data[0]\n",
    "\n",
    "    testLosses.append(testLoss)\n",
    "    \n",
    "    print(\"epoch\",epoch,\"train loss=\", trainLoss, \"test loss=\",testLoss)"
   ]
  },
  {
   "cell_type": "markdown",
   "metadata": {},
   "source": [
    "### plot training progress"
   ]
  },
  {
   "cell_type": "code",
   "execution_count": null,
   "metadata": {
    "scrolled": false
   },
   "outputs": [],
   "source": [
    "plt.plot(range(1, len(trainLosses) + 1), trainLosses, label = 'train (last=%.3f)' % trainLosses[-1])\n",
    "plt.plot(range(1, len(testLosses) + 1), testLosses, label = 'test (last=%.3f)' % testLosses[-1])\n",
    "plt.grid()\n",
    "plt.legend()\n",
    "plt.xlabel('epoch')\n",
    "plt.ylabel('loss');"
   ]
  },
  {
   "cell_type": "markdown",
   "metadata": {},
   "source": [
    "### show a distribution of predictions minus true value for the test set"
   ]
  },
  {
   "cell_type": "code",
   "execution_count": 14,
   "metadata": {},
   "outputs": [
    {
     "ename": "NameError",
     "evalue": "name 'model' is not defined",
     "output_type": "error",
     "traceback": [
      "\u001b[0;31m---------------------------------------------------------------------------\u001b[0m",
      "\u001b[0;31mNameError\u001b[0m                                 Traceback (most recent call last)",
      "\u001b[0;32m/var/folders/qf/w0yjm6cd5l13vkf0nj5z87_m0000gn/T/ipykernel_91509/3369113274.py\u001b[0m in \u001b[0;36m<module>\u001b[0;34m\u001b[0m\n\u001b[0;32m----> 1\u001b[0;31m \u001b[0mmodel\u001b[0m\u001b[0;34m.\u001b[0m\u001b[0meval\u001b[0m\u001b[0;34m(\u001b[0m\u001b[0;34m)\u001b[0m\u001b[0;34m\u001b[0m\u001b[0;34m\u001b[0m\u001b[0m\n\u001b[0m\u001b[1;32m      2\u001b[0m \u001b[0;34m\u001b[0m\u001b[0m\n\u001b[1;32m      3\u001b[0m \u001b[0mpredictions\u001b[0m \u001b[0;34m=\u001b[0m \u001b[0mmodel\u001b[0m\u001b[0;34m.\u001b[0m\u001b[0mforward\u001b[0m\u001b[0;34m(\u001b[0m\u001b[0minputTest\u001b[0m\u001b[0;34m)\u001b[0m\u001b[0;34m.\u001b[0m\u001b[0mdata\u001b[0m\u001b[0;34m.\u001b[0m\u001b[0mnumpy\u001b[0m\u001b[0;34m(\u001b[0m\u001b[0;34m)\u001b[0m\u001b[0;34m[\u001b[0m\u001b[0;34m:\u001b[0m\u001b[0;34m,\u001b[0m\u001b[0;36m0\u001b[0m\u001b[0;34m]\u001b[0m\u001b[0;34m\u001b[0m\u001b[0;34m\u001b[0m\u001b[0m\n",
      "\u001b[0;31mNameError\u001b[0m: name 'model' is not defined"
     ]
    }
   ],
   "source": [
    "model.eval()\n",
    "\n",
    "predictions = model.forward(inputTest).data.numpy()[:,0]"
   ]
  },
  {
   "cell_type": "markdown",
   "metadata": {},
   "source": [
    "### compare different ways of estimating the variance"
   ]
  },
  {
   "cell_type": "code",
   "execution_count": 13,
   "metadata": {},
   "outputs": [
    {
     "ename": "NameError",
     "evalue": "name 'predictions' is not defined",
     "output_type": "error",
     "traceback": [
      "\u001b[0;31m---------------------------------------------------------------------------\u001b[0m",
      "\u001b[0;31mNameError\u001b[0m                                 Traceback (most recent call last)",
      "\u001b[0;32m/var/folders/qf/w0yjm6cd5l13vkf0nj5z87_m0000gn/T/ipykernel_91509/2461585264.py\u001b[0m in \u001b[0;36m<module>\u001b[0;34m\u001b[0m\n\u001b[1;32m     12\u001b[0m \u001b[0;34m\u001b[0m\u001b[0m\n\u001b[1;32m     13\u001b[0m     rmse = [ \n\u001b[0;32m---> 14\u001b[0;31m       \u001b[0mabsDiffFunc\u001b[0m\u001b[0;34m(\u001b[0m\u001b[0mpredictions\u001b[0m\u001b[0;34m,\u001b[0m \u001b[0mtargetTest\u001b[0m\u001b[0;34m)\u001b[0m\u001b[0;34m,\u001b[0m\u001b[0;34m\u001b[0m\u001b[0;34m\u001b[0m\u001b[0m\n\u001b[0m\u001b[1;32m     15\u001b[0m       \u001b[0mabsDiffFunc\u001b[0m\u001b[0;34m(\u001b[0m\u001b[0mnp\u001b[0m\u001b[0;34m.\u001b[0m\u001b[0msqrt\u001b[0m\u001b[0;34m(\u001b[0m\u001b[0;34m[\u001b[0m \u001b[0mnp\u001b[0m\u001b[0;34m.\u001b[0m\u001b[0mvar\u001b[0m\u001b[0;34m(\u001b[0m\u001b[0mx\u001b[0m\u001b[0;34m,\u001b[0m \u001b[0mddof\u001b[0m \u001b[0;34m=\u001b[0m \u001b[0;36m0\u001b[0m\u001b[0;34m)\u001b[0m \u001b[0;32mfor\u001b[0m \u001b[0mx\u001b[0m \u001b[0;32min\u001b[0m \u001b[0minputTest\u001b[0m\u001b[0;34m]\u001b[0m\u001b[0;34m)\u001b[0m\u001b[0;34m,\u001b[0m \u001b[0mtargetTest\u001b[0m\u001b[0;34m)\u001b[0m\u001b[0;34m,\u001b[0m\u001b[0;34m\u001b[0m\u001b[0;34m\u001b[0m\u001b[0m\n\u001b[1;32m     16\u001b[0m       \u001b[0mabsDiffFunc\u001b[0m\u001b[0;34m(\u001b[0m\u001b[0mnp\u001b[0m\u001b[0;34m.\u001b[0m\u001b[0msqrt\u001b[0m\u001b[0;34m(\u001b[0m\u001b[0;34m[\u001b[0m \u001b[0mnp\u001b[0m\u001b[0;34m.\u001b[0m\u001b[0mvar\u001b[0m\u001b[0;34m(\u001b[0m\u001b[0mx\u001b[0m\u001b[0;34m,\u001b[0m \u001b[0mddof\u001b[0m \u001b[0;34m=\u001b[0m \u001b[0;36m1\u001b[0m\u001b[0;34m)\u001b[0m \u001b[0;32mfor\u001b[0m \u001b[0mx\u001b[0m \u001b[0;32min\u001b[0m \u001b[0minputTest\u001b[0m\u001b[0;34m]\u001b[0m\u001b[0;34m)\u001b[0m\u001b[0;34m,\u001b[0m \u001b[0mtargetTest\u001b[0m\u001b[0;34m)\u001b[0m\u001b[0;34m\u001b[0m\u001b[0;34m\u001b[0m\u001b[0m\n",
      "\u001b[0;31mNameError\u001b[0m: name 'predictions' is not defined"
     ]
    }
   ],
   "source": [
    "def absDiffFunc(prediction, trueValues):\n",
    "    absDiff = prediction - trueValues\n",
    "    return sqrt(np.mean(absDiff**2))\n",
    "\n",
    "import pandas as pd\n",
    "\n",
    "df = pd.DataFrame(dict(estimator = [\n",
    "    \"network prediction\",\n",
    "    \"ML estimator\",\n",
    "    \"unbiased estimator\",\n",
    "     ], \n",
    "                 \n",
    "    rmse = [ \n",
    "      absDiffFunc(predictions, targetTest),\n",
    "      absDiffFunc(np.sqrt([ np.var(x, ddof = 0) for x in inputTest]), targetTest),\n",
    "      absDiffFunc(np.sqrt([ np.var(x, ddof = 1) for x in inputTest]), targetTest)\n",
    "    ]))\n",
    "\n",
    "df\n",
    "                  "
   ]
  },
  {
   "cell_type": "code",
   "execution_count": null,
   "metadata": {},
   "outputs": [],
   "source": []
  },
  {
   "cell_type": "code",
   "execution_count": null,
   "metadata": {},
   "outputs": [],
   "source": []
  },
  {
   "cell_type": "code",
   "execution_count": null,
   "metadata": {},
   "outputs": [],
   "source": []
  }
 ],
 "metadata": {
  "kernelspec": {
   "display_name": "Python 3 (ipykernel)",
   "language": "python",
   "name": "python3"
  },
  "language_info": {
   "codemirror_mode": {
    "name": "ipython",
    "version": 3
   },
   "file_extension": ".py",
   "mimetype": "text/x-python",
   "name": "python",
   "nbconvert_exporter": "python",
   "pygments_lexer": "ipython3",
   "version": "3.9.7"
  }
 },
 "nbformat": 4,
 "nbformat_minor": 1
}
