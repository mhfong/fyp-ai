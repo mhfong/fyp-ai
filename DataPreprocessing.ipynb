{
 "cells": [
  {
   "cell_type": "markdown",
   "id": "93e2db4a",
   "metadata": {},
   "source": [
    "# COMP4211  Software Project \n",
    "\n",
    "<p style=\"text-align: left;\">\n",
    "Name: Fong Man Hin <br \\>\n",
    "SID: 20624888 <br \\>\n",
    "</p>"
   ]
  },
  {
   "cell_type": "markdown",
   "id": "e01cc6a4",
   "metadata": {},
   "source": [
    "## Outline\n",
    "1. Define Task\n",
    "2. Data Preprocessing\n",
    "3. Build LSTM model\n",
    "4. Model training & prediction\n",
    "6. Testing & Result"
   ]
  },
  {
   "cell_type": "code",
   "execution_count": 5,
   "id": "8cb03fef",
   "metadata": {},
   "outputs": [
    {
     "name": "stdout",
     "output_type": "stream",
     "text": [
      "Requirement already satisfied: torch in /opt/anaconda3/lib/python3.9/site-packages (1.10.1)\n",
      "Requirement already satisfied: typing_extensions in /opt/anaconda3/lib/python3.9/site-packages (from torch) (3.10.0.2)\n",
      "Collecting sklearn\n",
      "  Downloading sklearn-0.0.tar.gz (1.1 kB)\n",
      "Collecting scikit-learn\n",
      "  Downloading scikit_learn-1.0.2-cp39-cp39-macosx_10_13_x86_64.whl (8.0 MB)\n",
      "\u001b[K     |████████████████████████████████| 8.0 MB 192 kB/s eta 0:00:01\n",
      "\u001b[?25hCollecting joblib>=0.11\n",
      "  Using cached joblib-1.1.0-py2.py3-none-any.whl (306 kB)\n",
      "Collecting threadpoolctl>=2.0.0\n",
      "  Using cached threadpoolctl-3.0.0-py3-none-any.whl (14 kB)\n",
      "Requirement already satisfied: numpy>=1.14.6 in /opt/anaconda3/lib/python3.9/site-packages (from scikit-learn->sklearn) (1.21.2)\n",
      "Collecting scipy>=1.1.0\n",
      "  Using cached scipy-1.7.3-cp39-cp39-macosx_10_9_x86_64.whl (33.2 MB)\n",
      "Building wheels for collected packages: sklearn\n",
      "  Building wheel for sklearn (setup.py) ... \u001b[?25ldone\n",
      "\u001b[?25h  Created wheel for sklearn: filename=sklearn-0.0-py2.py3-none-any.whl size=1309 sha256=98389ced86c35f4d7323e88c0a5a615310fdfd740ca63bf924909940dea36455\n",
      "  Stored in directory: /Users/fm/Library/Caches/pip/wheels/e4/7b/98/b6466d71b8d738a0c547008b9eb39bf8676d1ff6ca4b22af1c\n",
      "Successfully built sklearn\n",
      "Installing collected packages: threadpoolctl, scipy, joblib, scikit-learn, sklearn\n",
      "Successfully installed joblib-1.1.0 scikit-learn-1.0.2 scipy-1.7.3 sklearn-0.0 threadpoolctl-3.0.0\n",
      "Requirement already satisfied: matplotlib in /opt/anaconda3/lib/python3.9/site-packages (3.5.1)\n",
      "Requirement already satisfied: kiwisolver>=1.0.1 in /opt/anaconda3/lib/python3.9/site-packages (from matplotlib) (1.3.2)\n",
      "Requirement already satisfied: pillow>=6.2.0 in /opt/anaconda3/lib/python3.9/site-packages (from matplotlib) (8.4.0)\n",
      "Requirement already satisfied: cycler>=0.10 in /opt/anaconda3/lib/python3.9/site-packages (from matplotlib) (0.11.0)\n",
      "Requirement already satisfied: packaging>=20.0 in /opt/anaconda3/lib/python3.9/site-packages (from matplotlib) (21.3)\n",
      "Requirement already satisfied: numpy>=1.17 in /opt/anaconda3/lib/python3.9/site-packages (from matplotlib) (1.21.2)\n",
      "Requirement already satisfied: fonttools>=4.22.0 in /opt/anaconda3/lib/python3.9/site-packages (from matplotlib) (4.28.5)\n",
      "Requirement already satisfied: python-dateutil>=2.7 in /opt/anaconda3/lib/python3.9/site-packages (from matplotlib) (2.8.2)\n",
      "Requirement already satisfied: pyparsing>=2.2.1 in /opt/anaconda3/lib/python3.9/site-packages (from matplotlib) (3.0.4)\n",
      "Requirement already satisfied: six>=1.5 in /opt/anaconda3/lib/python3.9/site-packages (from python-dateutil>=2.7->matplotlib) (1.16.0)\n",
      "Requirement already satisfied: torchsummaryX in /opt/anaconda3/lib/python3.9/site-packages (1.3.0)\n",
      "Requirement already satisfied: torch in /opt/anaconda3/lib/python3.9/site-packages (from torchsummaryX) (1.10.1)\n",
      "Requirement already satisfied: numpy in /opt/anaconda3/lib/python3.9/site-packages (from torchsummaryX) (1.21.2)\n",
      "Requirement already satisfied: pandas in /opt/anaconda3/lib/python3.9/site-packages (from torchsummaryX) (1.3.5)\n",
      "Requirement already satisfied: python-dateutil>=2.7.3 in /opt/anaconda3/lib/python3.9/site-packages (from pandas->torchsummaryX) (2.8.2)\n",
      "Requirement already satisfied: pytz>=2017.3 in /opt/anaconda3/lib/python3.9/site-packages (from pandas->torchsummaryX) (2021.3)\n",
      "Requirement already satisfied: six>=1.5 in /opt/anaconda3/lib/python3.9/site-packages (from python-dateutil>=2.7.3->pandas->torchsummaryX) (1.16.0)\n",
      "Requirement already satisfied: typing_extensions in /opt/anaconda3/lib/python3.9/site-packages (from torch->torchsummaryX) (3.10.0.2)\n"
     ]
    }
   ],
   "source": [
    "!pip install torch\n",
    "!pip install sklearn\n",
    "!pip install matplotlib\n",
    "!pip install torchsummaryX"
   ]
  },
  {
   "cell_type": "code",
   "execution_count": 1,
   "id": "f8a960f1",
   "metadata": {},
   "outputs": [
    {
     "name": "stdout",
     "output_type": "stream",
     "text": [
      "lll\n"
     ]
    }
   ],
   "source": [
    "print(\"lll\")"
   ]
  },
  {
   "cell_type": "markdown",
   "id": "6bfe9176",
   "metadata": {},
   "source": [
    "## 1. Define Task"
   ]
  },
  {
   "cell_type": "markdown",
   "id": "449e1585",
   "metadata": {},
   "source": [
    "### Target Task\n",
    "We will forecast electricity load demand for Jan-2020 based on Training dataset from 2015-2019 using different LSTM model and compare their accuracy."
   ]
  },
  {
   "cell_type": "code",
   "execution_count": 6,
   "id": "2846d4d5",
   "metadata": {},
   "outputs": [],
   "source": [
    "import os, pprint, time, matplotlib, torch\n",
    "import numpy as np\n",
    "import pandas as pd\n",
    "import matplotlib.pyplot as plt\n",
    "import torch.utils.data as data\n",
    "import torch.nn as nn\n",
    "import torch.nn.functional as F\n",
    "import os.path as osp\n",
    "import torch.optim as optim\n",
    "from torch.utils.data import (\n",
    "    DataLoader,\n",
    ")\n",
    "from matplotlib.pyplot import figure\n",
    "from sklearn.preprocessing import MinMaxScaler\n",
    "from torchsummaryX import summary"
   ]
  },
  {
   "cell_type": "code",
   "execution_count": 7,
   "id": "f420da92",
   "metadata": {},
   "outputs": [
    {
     "data": {
      "text/plain": [
       "_id                  object\n",
       "date                 object\n",
       "open                float64\n",
       "high                float64\n",
       "low                 float64\n",
       "close               float64\n",
       "adjClose            float64\n",
       "volume              float64\n",
       "unadjustedVolume    float64\n",
       "change              float64\n",
       "changePercent       float64\n",
       "vwap                float64\n",
       "label                object\n",
       "changeOverTime      float64\n",
       "dtype: object"
      ]
     },
     "execution_count": 7,
     "metadata": {},
     "output_type": "execute_result"
    }
   ],
   "source": [
    "df = pd.read_csv('./data/AAPL.csv')\n",
    "df2 = df['close']\n",
    "df.dtypes"
   ]
  },
  {
   "cell_type": "code",
   "execution_count": 8,
   "id": "3e525850",
   "metadata": {},
   "outputs": [
    {
     "name": "stdout",
     "output_type": "stream",
     "text": [
      "_id                 0\n",
      "date                0\n",
      "open                0\n",
      "high                0\n",
      "low                 0\n",
      "close               0\n",
      "adjClose            0\n",
      "volume              0\n",
      "unadjustedVolume    0\n",
      "change              0\n",
      "changePercent       0\n",
      "vwap                0\n",
      "label               0\n",
      "changeOverTime      0\n",
      "dtype: int64\n",
      "0\n",
      "_id                 0\n",
      "date                0\n",
      "open                0\n",
      "high                0\n",
      "low                 0\n",
      "close               0\n",
      "adjClose            0\n",
      "volume              0\n",
      "unadjustedVolume    0\n",
      "change              0\n",
      "changePercent       0\n",
      "vwap                0\n",
      "label               0\n",
      "changeOverTime      0\n",
      "dtype: int64\n",
      "0\n",
      "_id                 0\n",
      "date                0\n",
      "open                0\n",
      "high                0\n",
      "low                 0\n",
      "close               0\n",
      "adjClose            0\n",
      "volume              0\n",
      "unadjustedVolume    0\n",
      "change              0\n",
      "changePercent       0\n",
      "vwap                0\n",
      "label               0\n",
      "changeOverTime      0\n",
      "dtype: int64\n",
      "0\n",
      "_id                 0\n",
      "date                0\n",
      "open                0\n",
      "high                0\n",
      "low                 0\n",
      "close               0\n",
      "adjClose            0\n",
      "volume              0\n",
      "unadjustedVolume    0\n",
      "change              0\n",
      "changePercent       0\n",
      "vwap                0\n",
      "label               0\n",
      "changeOverTime      0\n",
      "dtype: int64\n",
      "0\n",
      "_id                 0\n",
      "date                0\n",
      "open                0\n",
      "high                0\n",
      "low                 0\n",
      "close               0\n",
      "adjClose            0\n",
      "volume              0\n",
      "unadjustedVolume    0\n",
      "change              0\n",
      "changePercent       0\n",
      "vwap                0\n",
      "label               0\n",
      "changeOverTime      0\n",
      "dtype: int64\n",
      "0\n",
      "_id                 0\n",
      "date                0\n",
      "open                0\n",
      "high                0\n",
      "low                 0\n",
      "close               0\n",
      "adjClose            0\n",
      "volume              0\n",
      "unadjustedVolume    0\n",
      "change              0\n",
      "changePercent       0\n",
      "vwap                0\n",
      "label               0\n",
      "changeOverTime      0\n",
      "dtype: int64\n",
      "0\n",
      "_id                 0\n",
      "date                0\n",
      "open                0\n",
      "high                0\n",
      "low                 0\n",
      "close               0\n",
      "adjClose            0\n",
      "volume              0\n",
      "unadjustedVolume    0\n",
      "change              0\n",
      "changePercent       0\n",
      "vwap                0\n",
      "label               0\n",
      "changeOverTime      0\n",
      "dtype: int64\n",
      "0\n",
      "_id                 0\n",
      "date                0\n",
      "open                0\n",
      "high                0\n",
      "low                 0\n",
      "close               0\n",
      "adjClose            0\n",
      "volume              0\n",
      "unadjustedVolume    0\n",
      "change              0\n",
      "changePercent       0\n",
      "vwap                0\n",
      "label               0\n",
      "changeOverTime      0\n",
      "dtype: int64\n",
      "0\n",
      "_id                 0\n",
      "date                0\n",
      "open                0\n",
      "high                0\n",
      "low                 0\n",
      "close               0\n",
      "adjClose            0\n",
      "volume              0\n",
      "unadjustedVolume    0\n",
      "change              0\n",
      "changePercent       0\n",
      "vwap                0\n",
      "label               0\n",
      "changeOverTime      0\n",
      "dtype: int64\n",
      "0\n",
      "_id                 0\n",
      "date                0\n",
      "open                0\n",
      "high                0\n",
      "low                 0\n",
      "close               0\n",
      "adjClose            0\n",
      "volume              0\n",
      "unadjustedVolume    0\n",
      "change              0\n",
      "changePercent       0\n",
      "vwap                0\n",
      "label               0\n",
      "changeOverTime      0\n",
      "dtype: int64\n",
      "0\n"
     ]
    }
   ],
   "source": [
    "stocks = [\"AAPL\",\"ADBE\",\"AMZN\",\"FB\",\"GOOG\",\"GOOGL\",\"MSFT\",\"NFLX\",\"NVDA\",\"TSLA\"]\n",
    "\n",
    "for i in range(len(stocks)):\n",
    "    location = './data/'+stocks[i]+'.csv'\n",
    "    df = pd.read_csv(location)\n",
    "    df2 = df.iloc[0]\n",
    "    df2 += df.iloc[0]\n",
    "    # check any null value\n",
    "    print(df.isnull().sum())\n",
    "    # check any dupliactes\n",
    "    print(df.duplicated().sum())"
   ]
  },
  {
   "cell_type": "code",
   "execution_count": 9,
   "id": "6c831374",
   "metadata": {},
   "outputs": [
    {
     "data": {
      "text/plain": [
       "_id                 617c525d48c3f71421d6ad2f617c525d48c3f71421d6ad2f\n",
       "date                                            2021-10-272021-10-27\n",
       "open                                                         2079.32\n",
       "high                                                         2141.76\n",
       "low                                                          2061.56\n",
       "close                                                        2075.72\n",
       "adjClose                                                     2075.72\n",
       "volume                                                    76495616.0\n",
       "unadjustedVolume                                          76495616.0\n",
       "change                                                          -3.6\n",
       "changePercent                                                 -0.346\n",
       "vwap                                                      2093.01334\n",
       "label                                   October 27, 21October 27, 21\n",
       "changeOverTime                                              -0.00346\n",
       "Name: 0, dtype: object"
      ]
     },
     "execution_count": 9,
     "metadata": {},
     "output_type": "execute_result"
    }
   ],
   "source": [
    "df2"
   ]
  },
  {
   "cell_type": "code",
   "execution_count": null,
   "id": "9d2afe81",
   "metadata": {},
   "outputs": [],
   "source": []
  },
  {
   "cell_type": "markdown",
   "id": "a19414b4",
   "metadata": {},
   "source": [
    "## 2. Data Preprocessing"
   ]
  },
  {
   "cell_type": "code",
   "execution_count": null,
   "id": "201517b5",
   "metadata": {},
   "outputs": [],
   "source": []
  },
  {
   "cell_type": "code",
   "execution_count": null,
   "id": "57d39190",
   "metadata": {},
   "outputs": [],
   "source": []
  },
  {
   "cell_type": "code",
   "execution_count": null,
   "id": "7ce2dc0f",
   "metadata": {},
   "outputs": [],
   "source": []
  },
  {
   "cell_type": "code",
   "execution_count": null,
   "id": "a7d0c9dc",
   "metadata": {},
   "outputs": [],
   "source": []
  },
  {
   "cell_type": "code",
   "execution_count": null,
   "id": "1210b7b0",
   "metadata": {},
   "outputs": [],
   "source": []
  },
  {
   "cell_type": "code",
   "execution_count": null,
   "id": "1fa172f4",
   "metadata": {},
   "outputs": [],
   "source": []
  },
  {
   "cell_type": "code",
   "execution_count": null,
   "id": "4cec0bf7",
   "metadata": {},
   "outputs": [],
   "source": []
  },
  {
   "cell_type": "markdown",
   "id": "5c97fc5e",
   "metadata": {},
   "source": [
    "## 3. Build LSTM model"
   ]
  },
  {
   "cell_type": "markdown",
   "id": "cf71087f",
   "metadata": {},
   "source": [
    "## 4. Model Training & prediction"
   ]
  }
 ],
 "metadata": {
  "kernelspec": {
   "display_name": "Python 3 (ipykernel)",
   "language": "python",
   "name": "python3"
  },
  "language_info": {
   "codemirror_mode": {
    "name": "ipython",
    "version": 3
   },
   "file_extension": ".py",
   "mimetype": "text/x-python",
   "name": "python",
   "nbconvert_exporter": "python",
   "pygments_lexer": "ipython3",
   "version": "3.9.7"
  }
 },
 "nbformat": 4,
 "nbformat_minor": 5
}
